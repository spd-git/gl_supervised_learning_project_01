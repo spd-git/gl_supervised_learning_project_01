{
 "cells": [
  {
   "cell_type": "raw",
   "metadata": {},
   "source": [
    "Dataset:   airq402.dat\n",
    "\n",
    "Source: U.S. Department of Transportation\n",
    "\n",
    "Description: Airfsres and passengers for U.S. Domestic Routes\n",
    "for 4th Quarter of 2002.\n",
    "\n",
    "Variables/Columns\n",
    "\n",
    "City1   1-3\n",
    "City2   5-7\n",
    "Average Fare    11-17\n",
    "Distance      20-23\n",
    "Average weekly passengers   26-33\n",
    "market leading airline    36-37\n",
    "market share     40-45\n",
    "Average fare    48-54\n",
    "Low price airline   57-58\n",
    "market share    61-66\n",
    "price     69-75"
   ]
  },
  {
   "cell_type": "code",
   "execution_count": 1,
   "metadata": {},
   "outputs": [],
   "source": [
    "import pandas as pd\n",
    "import numpy as np\n",
    "import os\n",
    "\n",
    "from sklearn.linear_model import LinearRegression\n",
    "import matplotlib.pyplot as plt   \n",
    "import matplotlib.style\n",
    "plt.style.use('classic')\n",
    "import seaborn as sns\n",
    "from sklearn.model_selection import train_test_split"
   ]
  },
  {
   "cell_type": "markdown",
   "metadata": {},
   "source": [
    "# 1. Import and store the data in a data frame. (3 points)"
   ]
  },
  {
   "cell_type": "code",
   "execution_count": 2,
   "metadata": {},
   "outputs": [
    {
     "data": {
      "text/html": [
       "<div>\n",
       "<style scoped>\n",
       "    .dataframe tbody tr th:only-of-type {\n",
       "        vertical-align: middle;\n",
       "    }\n",
       "\n",
       "    .dataframe tbody tr th {\n",
       "        vertical-align: top;\n",
       "    }\n",
       "\n",
       "    .dataframe thead th {\n",
       "        text-align: right;\n",
       "    }\n",
       "</style>\n",
       "<table border=\"1\" class=\"dataframe\">\n",
       "  <thead>\n",
       "    <tr style=\"text-align: right;\">\n",
       "      <th></th>\n",
       "      <th>city1</th>\n",
       "      <th>city2</th>\n",
       "      <th>average_fare</th>\n",
       "      <th>distance</th>\n",
       "      <th>average_weekly_passengers</th>\n",
       "      <th>market_leading_airline</th>\n",
       "      <th>market_share</th>\n",
       "      <th>average_fare_2</th>\n",
       "      <th>low_price_airline</th>\n",
       "      <th>market_share_2</th>\n",
       "      <th>price</th>\n",
       "    </tr>\n",
       "  </thead>\n",
       "  <tbody>\n",
       "    <tr>\n",
       "      <th>0</th>\n",
       "      <td>CAK</td>\n",
       "      <td>ATL</td>\n",
       "      <td>114.47</td>\n",
       "      <td>528</td>\n",
       "      <td>424.56</td>\n",
       "      <td>FL</td>\n",
       "      <td>70.19</td>\n",
       "      <td>111.03</td>\n",
       "      <td>FL</td>\n",
       "      <td>70.19</td>\n",
       "      <td>111.03</td>\n",
       "    </tr>\n",
       "    <tr>\n",
       "      <th>1</th>\n",
       "      <td>CAK</td>\n",
       "      <td>MCO</td>\n",
       "      <td>122.47</td>\n",
       "      <td>860</td>\n",
       "      <td>276.84</td>\n",
       "      <td>FL</td>\n",
       "      <td>75.10</td>\n",
       "      <td>123.09</td>\n",
       "      <td>DL</td>\n",
       "      <td>17.23</td>\n",
       "      <td>118.94</td>\n",
       "    </tr>\n",
       "    <tr>\n",
       "      <th>2</th>\n",
       "      <td>ALB</td>\n",
       "      <td>ATL</td>\n",
       "      <td>214.42</td>\n",
       "      <td>852</td>\n",
       "      <td>215.76</td>\n",
       "      <td>DL</td>\n",
       "      <td>78.89</td>\n",
       "      <td>223.98</td>\n",
       "      <td>CO</td>\n",
       "      <td>2.77</td>\n",
       "      <td>167.12</td>\n",
       "    </tr>\n",
       "    <tr>\n",
       "      <th>3</th>\n",
       "      <td>ALB</td>\n",
       "      <td>BWI</td>\n",
       "      <td>69.40</td>\n",
       "      <td>288</td>\n",
       "      <td>606.84</td>\n",
       "      <td>WN</td>\n",
       "      <td>96.97</td>\n",
       "      <td>68.86</td>\n",
       "      <td>WN</td>\n",
       "      <td>96.97</td>\n",
       "      <td>68.86</td>\n",
       "    </tr>\n",
       "    <tr>\n",
       "      <th>4</th>\n",
       "      <td>ALB</td>\n",
       "      <td>ORD</td>\n",
       "      <td>158.13</td>\n",
       "      <td>723</td>\n",
       "      <td>313.04</td>\n",
       "      <td>UA</td>\n",
       "      <td>39.79</td>\n",
       "      <td>161.36</td>\n",
       "      <td>WN</td>\n",
       "      <td>15.34</td>\n",
       "      <td>145.42</td>\n",
       "    </tr>\n",
       "  </tbody>\n",
       "</table>\n",
       "</div>"
      ],
      "text/plain": [
       "  city1 city2  average_fare  distance  average_weekly_passengers  \\\n",
       "0   CAK   ATL        114.47       528                     424.56   \n",
       "1   CAK   MCO        122.47       860                     276.84   \n",
       "2   ALB   ATL        214.42       852                     215.76   \n",
       "3   ALB   BWI         69.40       288                     606.84   \n",
       "4   ALB   ORD        158.13       723                     313.04   \n",
       "\n",
       "  market_leading_airline  market_share  average_fare_2 low_price_airline  \\\n",
       "0                     FL         70.19          111.03                FL   \n",
       "1                     FL         75.10          123.09                DL   \n",
       "2                     DL         78.89          223.98                CO   \n",
       "3                     WN         96.97           68.86                WN   \n",
       "4                     UA         39.79          161.36                WN   \n",
       "\n",
       "   market_share_2   price  \n",
       "0           70.19  111.03  \n",
       "1           17.23  118.94  \n",
       "2            2.77  167.12  \n",
       "3           96.97   68.86  \n",
       "4           15.34  145.42  "
      ]
     },
     "execution_count": 2,
     "metadata": {},
     "output_type": "execute_result"
    }
   ],
   "source": [
    "df = pd.read_csv('airq402.dat', \n",
    "                 sep=\"\\s+\", \n",
    "                 skiprows=0, \n",
    "                 names=['city1',\n",
    "                        'city2',\n",
    "                        'average_fare',\n",
    "                        'distance',\n",
    "                        'average_weekly_passengers',\n",
    "                        'market_leading_airline',\n",
    "                        'market_share',\n",
    "                        'average_fare_2',\n",
    "                        'low_price_airline',\n",
    "                        'market_share_2',\n",
    "                        'price']\n",
    "                  )\n",
    "df.head()"
   ]
  },
  {
   "cell_type": "markdown",
   "metadata": {},
   "source": [
    "# 2. Remove the outliers from the data (5 points)"
   ]
  },
  {
   "cell_type": "code",
   "execution_count": 3,
   "metadata": {},
   "outputs": [],
   "source": [
    "p75 = df.quantile(0.75)\n",
    "p25 = df.quantile(0.25)\n",
    "df_iqr = p75 - p25\n",
    "mini = p25 - 1.5*df_iqr\n",
    "maxi = p75 + 1.5*df_iqr"
   ]
  },
  {
   "cell_type": "code",
   "execution_count": 4,
   "metadata": {},
   "outputs": [],
   "source": [
    "k = (df_iqr.to_frame().T.columns)"
   ]
  },
  {
   "cell_type": "code",
   "execution_count": 5,
   "metadata": {},
   "outputs": [],
   "source": [
    "df1 = df[k]"
   ]
  },
  {
   "cell_type": "code",
   "execution_count": 6,
   "metadata": {},
   "outputs": [
    {
     "data": {
      "text/html": [
       "<div>\n",
       "<style scoped>\n",
       "    .dataframe tbody tr th:only-of-type {\n",
       "        vertical-align: middle;\n",
       "    }\n",
       "\n",
       "    .dataframe tbody tr th {\n",
       "        vertical-align: top;\n",
       "    }\n",
       "\n",
       "    .dataframe thead th {\n",
       "        text-align: right;\n",
       "    }\n",
       "</style>\n",
       "<table border=\"1\" class=\"dataframe\">\n",
       "  <thead>\n",
       "    <tr style=\"text-align: right;\">\n",
       "      <th></th>\n",
       "      <th>average_fare</th>\n",
       "      <th>distance</th>\n",
       "      <th>average_weekly_passengers</th>\n",
       "      <th>market_share</th>\n",
       "      <th>average_fare_2</th>\n",
       "      <th>market_share_2</th>\n",
       "      <th>price</th>\n",
       "    </tr>\n",
       "  </thead>\n",
       "  <tbody>\n",
       "    <tr>\n",
       "      <th>0</th>\n",
       "      <td>114.47</td>\n",
       "      <td>528</td>\n",
       "      <td>424.56</td>\n",
       "      <td>70.19</td>\n",
       "      <td>111.03</td>\n",
       "      <td>70.19</td>\n",
       "      <td>111.03</td>\n",
       "    </tr>\n",
       "    <tr>\n",
       "      <th>1</th>\n",
       "      <td>122.47</td>\n",
       "      <td>860</td>\n",
       "      <td>276.84</td>\n",
       "      <td>75.10</td>\n",
       "      <td>123.09</td>\n",
       "      <td>17.23</td>\n",
       "      <td>118.94</td>\n",
       "    </tr>\n",
       "    <tr>\n",
       "      <th>2</th>\n",
       "      <td>214.42</td>\n",
       "      <td>852</td>\n",
       "      <td>215.76</td>\n",
       "      <td>78.89</td>\n",
       "      <td>223.98</td>\n",
       "      <td>2.77</td>\n",
       "      <td>167.12</td>\n",
       "    </tr>\n",
       "    <tr>\n",
       "      <th>3</th>\n",
       "      <td>69.40</td>\n",
       "      <td>288</td>\n",
       "      <td>606.84</td>\n",
       "      <td>96.97</td>\n",
       "      <td>68.86</td>\n",
       "      <td>96.97</td>\n",
       "      <td>68.86</td>\n",
       "    </tr>\n",
       "    <tr>\n",
       "      <th>4</th>\n",
       "      <td>158.13</td>\n",
       "      <td>723</td>\n",
       "      <td>313.04</td>\n",
       "      <td>39.79</td>\n",
       "      <td>161.36</td>\n",
       "      <td>15.34</td>\n",
       "      <td>145.42</td>\n",
       "    </tr>\n",
       "  </tbody>\n",
       "</table>\n",
       "</div>"
      ],
      "text/plain": [
       "   average_fare  distance  average_weekly_passengers  market_share  \\\n",
       "0        114.47       528                     424.56         70.19   \n",
       "1        122.47       860                     276.84         75.10   \n",
       "2        214.42       852                     215.76         78.89   \n",
       "3         69.40       288                     606.84         96.97   \n",
       "4        158.13       723                     313.04         39.79   \n",
       "\n",
       "   average_fare_2  market_share_2   price  \n",
       "0          111.03           70.19  111.03  \n",
       "1          123.09           17.23  118.94  \n",
       "2          223.98            2.77  167.12  \n",
       "3           68.86           96.97   68.86  \n",
       "4          161.36           15.34  145.42  "
      ]
     },
     "execution_count": 6,
     "metadata": {},
     "output_type": "execute_result"
    }
   ],
   "source": [
    "outliers_removed_df = df1[(df1 > mini) & (df1 < maxi)].dropna()\n",
    "outliers_removed_df.head()"
   ]
  },
  {
   "cell_type": "code",
   "execution_count": 7,
   "metadata": {},
   "outputs": [
    {
     "data": {
      "text/html": [
       "<div>\n",
       "<style scoped>\n",
       "    .dataframe tbody tr th:only-of-type {\n",
       "        vertical-align: middle;\n",
       "    }\n",
       "\n",
       "    .dataframe tbody tr th {\n",
       "        vertical-align: top;\n",
       "    }\n",
       "\n",
       "    .dataframe thead th {\n",
       "        text-align: right;\n",
       "    }\n",
       "</style>\n",
       "<table border=\"1\" class=\"dataframe\">\n",
       "  <thead>\n",
       "    <tr style=\"text-align: right;\">\n",
       "      <th></th>\n",
       "      <th>average_fare</th>\n",
       "      <th>distance</th>\n",
       "      <th>average_weekly_passengers</th>\n",
       "      <th>market_share</th>\n",
       "      <th>average_fare_2</th>\n",
       "      <th>market_share_2</th>\n",
       "      <th>price</th>\n",
       "    </tr>\n",
       "  </thead>\n",
       "  <tbody>\n",
       "    <tr>\n",
       "      <th>count</th>\n",
       "      <td>885.000000</td>\n",
       "      <td>885.000000</td>\n",
       "      <td>885.000000</td>\n",
       "      <td>885.000000</td>\n",
       "      <td>885.000000</td>\n",
       "      <td>885.000000</td>\n",
       "      <td>885.000000</td>\n",
       "    </tr>\n",
       "    <tr>\n",
       "      <th>mean</th>\n",
       "      <td>160.292068</td>\n",
       "      <td>1039.383051</td>\n",
       "      <td>499.132644</td>\n",
       "      <td>60.636938</td>\n",
       "      <td>162.589051</td>\n",
       "      <td>34.373028</td>\n",
       "      <td>140.431073</td>\n",
       "    </tr>\n",
       "    <tr>\n",
       "      <th>std</th>\n",
       "      <td>48.468895</td>\n",
       "      <td>615.224361</td>\n",
       "      <td>327.573566</td>\n",
       "      <td>19.361447</td>\n",
       "      <td>53.288002</td>\n",
       "      <td>27.183305</td>\n",
       "      <td>39.849789</td>\n",
       "    </tr>\n",
       "    <tr>\n",
       "      <th>min</th>\n",
       "      <td>50.520000</td>\n",
       "      <td>108.000000</td>\n",
       "      <td>181.410000</td>\n",
       "      <td>17.680000</td>\n",
       "      <td>50.520000</td>\n",
       "      <td>1.060000</td>\n",
       "      <td>50.520000</td>\n",
       "    </tr>\n",
       "    <tr>\n",
       "      <th>25%</th>\n",
       "      <td>126.600000</td>\n",
       "      <td>564.000000</td>\n",
       "      <td>249.020000</td>\n",
       "      <td>47.020000</td>\n",
       "      <td>125.590000</td>\n",
       "      <td>13.060000</td>\n",
       "      <td>115.110000</td>\n",
       "    </tr>\n",
       "    <tr>\n",
       "      <th>50%</th>\n",
       "      <td>160.710000</td>\n",
       "      <td>914.000000</td>\n",
       "      <td>372.930000</td>\n",
       "      <td>59.750000</td>\n",
       "      <td>160.740000</td>\n",
       "      <td>26.250000</td>\n",
       "      <td>138.020000</td>\n",
       "    </tr>\n",
       "    <tr>\n",
       "      <th>75%</th>\n",
       "      <td>194.050000</td>\n",
       "      <td>1381.000000</td>\n",
       "      <td>644.560000</td>\n",
       "      <td>74.660000</td>\n",
       "      <td>198.470000</td>\n",
       "      <td>52.930000</td>\n",
       "      <td>166.260000</td>\n",
       "    </tr>\n",
       "    <tr>\n",
       "      <th>max</th>\n",
       "      <td>288.580000</td>\n",
       "      <td>2724.000000</td>\n",
       "      <td>1519.890000</td>\n",
       "      <td>100.000000</td>\n",
       "      <td>315.860000</td>\n",
       "      <td>100.000000</td>\n",
       "      <td>250.020000</td>\n",
       "    </tr>\n",
       "  </tbody>\n",
       "</table>\n",
       "</div>"
      ],
      "text/plain": [
       "       average_fare     distance  average_weekly_passengers  market_share  \\\n",
       "count    885.000000   885.000000                 885.000000    885.000000   \n",
       "mean     160.292068  1039.383051                 499.132644     60.636938   \n",
       "std       48.468895   615.224361                 327.573566     19.361447   \n",
       "min       50.520000   108.000000                 181.410000     17.680000   \n",
       "25%      126.600000   564.000000                 249.020000     47.020000   \n",
       "50%      160.710000   914.000000                 372.930000     59.750000   \n",
       "75%      194.050000  1381.000000                 644.560000     74.660000   \n",
       "max      288.580000  2724.000000                1519.890000    100.000000   \n",
       "\n",
       "       average_fare_2  market_share_2       price  \n",
       "count      885.000000      885.000000  885.000000  \n",
       "mean       162.589051       34.373028  140.431073  \n",
       "std         53.288002       27.183305   39.849789  \n",
       "min         50.520000        1.060000   50.520000  \n",
       "25%        125.590000       13.060000  115.110000  \n",
       "50%        160.740000       26.250000  138.020000  \n",
       "75%        198.470000       52.930000  166.260000  \n",
       "max        315.860000      100.000000  250.020000  "
      ]
     },
     "execution_count": 7,
     "metadata": {},
     "output_type": "execute_result"
    }
   ],
   "source": [
    "outliers_removed_df.describe()"
   ]
  },
  {
   "cell_type": "markdown",
   "metadata": {},
   "source": [
    "# 3. Treat “Average Fare” – 3<sup>rd</sup>Column as your Dependent Variable and Rest of the columns as Independent Variable.&nbsp;(3 points)\n"
   ]
  },
  {
   "cell_type": "code",
   "execution_count": 8,
   "metadata": {},
   "outputs": [],
   "source": [
    "X = outliers_removed_df.drop(['average_fare'], axis=1) #independent variables\n",
    "y = outliers_removed_df[['average_fare']]    #Dependent Variable"
   ]
  },
  {
   "cell_type": "markdown",
   "metadata": {},
   "source": [
    "# 4. Drop the independent variables which has less than 0.1 correlation with the dependent variable (5 points)"
   ]
  },
  {
   "cell_type": "code",
   "execution_count": 9,
   "metadata": {},
   "outputs": [
    {
     "data": {
      "text/html": [
       "<div>\n",
       "<style scoped>\n",
       "    .dataframe tbody tr th:only-of-type {\n",
       "        vertical-align: middle;\n",
       "    }\n",
       "\n",
       "    .dataframe tbody tr th {\n",
       "        vertical-align: top;\n",
       "    }\n",
       "\n",
       "    .dataframe thead th {\n",
       "        text-align: right;\n",
       "    }\n",
       "</style>\n",
       "<table border=\"1\" class=\"dataframe\">\n",
       "  <thead>\n",
       "    <tr style=\"text-align: right;\">\n",
       "      <th></th>\n",
       "      <th>average_fare</th>\n",
       "    </tr>\n",
       "  </thead>\n",
       "  <tbody>\n",
       "    <tr>\n",
       "      <th>average_fare</th>\n",
       "      <td>False</td>\n",
       "    </tr>\n",
       "    <tr>\n",
       "      <th>distance</th>\n",
       "      <td>False</td>\n",
       "    </tr>\n",
       "    <tr>\n",
       "      <th>average_weekly_passengers</th>\n",
       "      <td>False</td>\n",
       "    </tr>\n",
       "    <tr>\n",
       "      <th>market_share</th>\n",
       "      <td>False</td>\n",
       "    </tr>\n",
       "    <tr>\n",
       "      <th>average_fare_2</th>\n",
       "      <td>False</td>\n",
       "    </tr>\n",
       "    <tr>\n",
       "      <th>market_share_2</th>\n",
       "      <td>False</td>\n",
       "    </tr>\n",
       "    <tr>\n",
       "      <th>price</th>\n",
       "      <td>False</td>\n",
       "    </tr>\n",
       "  </tbody>\n",
       "</table>\n",
       "</div>"
      ],
      "text/plain": [
       "                           average_fare\n",
       "average_fare                      False\n",
       "distance                          False\n",
       "average_weekly_passengers         False\n",
       "market_share                      False\n",
       "average_fare_2                    False\n",
       "market_share_2                    False\n",
       "price                             False"
      ]
     },
     "execution_count": 9,
     "metadata": {},
     "output_type": "execute_result"
    }
   ],
   "source": [
    "corr = (outliers_removed_df.corr()['average_fare'].abs() < 0.1).to_frame() \n",
    "corr"
   ]
  },
  {
   "cell_type": "code",
   "execution_count": 10,
   "metadata": {},
   "outputs": [],
   "source": [
    "# Assuming that question meant not to consider .abs() as it returned empty array\n",
    "# here we are dropping any value less than 0.1\n",
    "#corr = (outliers_removed_df.corr()['average_fare'] < 0.1).to_frame() "
   ]
  },
  {
   "cell_type": "code",
   "execution_count": 11,
   "metadata": {},
   "outputs": [
    {
     "data": {
      "text/html": [
       "<div>\n",
       "<style scoped>\n",
       "    .dataframe tbody tr th:only-of-type {\n",
       "        vertical-align: middle;\n",
       "    }\n",
       "\n",
       "    .dataframe tbody tr th {\n",
       "        vertical-align: top;\n",
       "    }\n",
       "\n",
       "    .dataframe thead th {\n",
       "        text-align: right;\n",
       "    }\n",
       "</style>\n",
       "<table border=\"1\" class=\"dataframe\">\n",
       "  <thead>\n",
       "    <tr style=\"text-align: right;\">\n",
       "      <th></th>\n",
       "      <th>average_fare</th>\n",
       "    </tr>\n",
       "  </thead>\n",
       "  <tbody>\n",
       "    <tr>\n",
       "      <th>average_fare</th>\n",
       "      <td>False</td>\n",
       "    </tr>\n",
       "    <tr>\n",
       "      <th>distance</th>\n",
       "      <td>False</td>\n",
       "    </tr>\n",
       "    <tr>\n",
       "      <th>average_weekly_passengers</th>\n",
       "      <td>False</td>\n",
       "    </tr>\n",
       "    <tr>\n",
       "      <th>market_share</th>\n",
       "      <td>False</td>\n",
       "    </tr>\n",
       "    <tr>\n",
       "      <th>average_fare_2</th>\n",
       "      <td>False</td>\n",
       "    </tr>\n",
       "    <tr>\n",
       "      <th>market_share_2</th>\n",
       "      <td>False</td>\n",
       "    </tr>\n",
       "    <tr>\n",
       "      <th>price</th>\n",
       "      <td>False</td>\n",
       "    </tr>\n",
       "  </tbody>\n",
       "</table>\n",
       "</div>"
      ],
      "text/plain": [
       "                           average_fare\n",
       "average_fare                      False\n",
       "distance                          False\n",
       "average_weekly_passengers         False\n",
       "market_share                      False\n",
       "average_fare_2                    False\n",
       "market_share_2                    False\n",
       "price                             False"
      ]
     },
     "execution_count": 11,
     "metadata": {},
     "output_type": "execute_result"
    }
   ],
   "source": [
    "corr"
   ]
  },
  {
   "cell_type": "code",
   "execution_count": 12,
   "metadata": {},
   "outputs": [],
   "source": [
    "corr = corr[corr == True].dropna(axis=0)"
   ]
  },
  {
   "cell_type": "code",
   "execution_count": 13,
   "metadata": {},
   "outputs": [
    {
     "data": {
      "text/plain": [
       "Index([], dtype='object')"
      ]
     },
     "execution_count": 13,
     "metadata": {},
     "output_type": "execute_result"
    }
   ],
   "source": [
    "corr.T.columns"
   ]
  },
  {
   "cell_type": "code",
   "execution_count": 14,
   "metadata": {},
   "outputs": [],
   "source": [
    "X = X.drop(corr.T.columns,axis=1)"
   ]
  },
  {
   "cell_type": "markdown",
   "metadata": {},
   "source": [
    "# 5. Create scatter Plot of Independent Variable vs Dependent Variable. (4 points)"
   ]
  },
  {
   "cell_type": "code",
   "execution_count": 15,
   "metadata": {},
   "outputs": [],
   "source": [
    "import matplotlib.pyplot as plt\n",
    "import matplotlib.style\n",
    "plt.style.use('classic')"
   ]
  },
  {
   "cell_type": "code",
   "execution_count": 16,
   "metadata": {},
   "outputs": [
    {
     "data": {
      "text/plain": [
       "<matplotlib.collections.PathCollection at 0x1045180b8>"
      ]
     },
     "execution_count": 16,
     "metadata": {},
     "output_type": "execute_result"
    },
    {
     "data": {
      "image/png": "[encoded data removed]",
      "text/plain": [
       "<Figure size 640x480 with 1 Axes>"
      ]
     },
     "metadata": {},
     "output_type": "display_data"
    }
   ],
   "source": [
    "plt.scatter(x=\"distance\", y=\"average_fare\", data=outliers_removed_df)"
   ]
  },
  {
   "cell_type": "code",
   "execution_count": 17,
   "metadata": {},
   "outputs": [
    {
     "data": {
      "text/plain": [
       "<matplotlib.collections.PathCollection at 0x10a4f1860>"
      ]
     },
     "execution_count": 17,
     "metadata": {},
     "output_type": "execute_result"
    },
    {
     "data": {
      "image/png": "[encoded data removed]",
      "text/plain": [
       "<Figure size 640x480 with 1 Axes>"
      ]
     },
     "metadata": {},
     "output_type": "display_data"
    }
   ],
   "source": [
    "plt.scatter(x=\"average_fare_2\", y=\"average_fare\", data=outliers_removed_df)"
   ]
  },
  {
   "cell_type": "code",
   "execution_count": 18,
   "metadata": {},
   "outputs": [
    {
     "data": {
      "text/plain": [
       "<matplotlib.collections.PathCollection at 0x10a619be0>"
      ]
     },
     "execution_count": 18,
     "metadata": {},
     "output_type": "execute_result"
    },
    {
     "data": {
      "image/png": "[encoded data removed]",
      "text/plain": [
       "<Figure size 640x480 with 1 Axes>"
      ]
     },
     "metadata": {},
     "output_type": "display_data"
    }
   ],
   "source": [
    "plt.scatter(x=\"price\", y=\"average_fare\", data=outliers_removed_df)"
   ]
  },
  {
   "cell_type": "markdown",
   "metadata": {},
   "source": [
    "# 6. Divide the data set into training and test data set and build a Multiple Linear Regression model. (5 points)"
   ]
  },
  {
   "cell_type": "code",
   "execution_count": 19,
   "metadata": {},
   "outputs": [],
   "source": [
    "from sklearn.linear_model import LinearRegression\n",
    "\n",
    "X_train, X_test, y_train, y_test = train_test_split(X, y, test_size=0.20 , random_state=1)\n",
    "regression_model = LinearRegression() "
   ]
  },
  {
   "cell_type": "code",
   "execution_count": 20,
   "metadata": {},
   "outputs": [
    {
     "data": {
      "text/plain": [
       "LinearRegression(copy_X=True, fit_intercept=True, n_jobs=1, normalize=False)"
      ]
     },
     "execution_count": 20,
     "metadata": {},
     "output_type": "execute_result"
    }
   ],
   "source": [
    "regression_model.fit(X_train, y_train)"
   ]
  },
  {
   "cell_type": "markdown",
   "metadata": {},
   "source": [
    "# 7. Print the coefficients &amp; intercepts of the linear regression model (5 points)"
   ]
  },
  {
   "cell_type": "code",
   "execution_count": 21,
   "metadata": {},
   "outputs": [
    {
     "data": {
      "text/html": [
       "<div>\n",
       "<style scoped>\n",
       "    .dataframe tbody tr th:only-of-type {\n",
       "        vertical-align: middle;\n",
       "    }\n",
       "\n",
       "    .dataframe tbody tr th {\n",
       "        vertical-align: top;\n",
       "    }\n",
       "\n",
       "    .dataframe thead th {\n",
       "        text-align: right;\n",
       "    }\n",
       "</style>\n",
       "<table border=\"1\" class=\"dataframe\">\n",
       "  <thead>\n",
       "    <tr style=\"text-align: right;\">\n",
       "      <th></th>\n",
       "      <th>0</th>\n",
       "    </tr>\n",
       "  </thead>\n",
       "  <tbody>\n",
       "    <tr>\n",
       "      <th>distance</th>\n",
       "      <td>0.002681</td>\n",
       "    </tr>\n",
       "    <tr>\n",
       "      <th>average_weekly_passengers</th>\n",
       "      <td>-0.003401</td>\n",
       "    </tr>\n",
       "    <tr>\n",
       "      <th>market_share</th>\n",
       "      <td>0.077984</td>\n",
       "    </tr>\n",
       "    <tr>\n",
       "      <th>average_fare_2</th>\n",
       "      <td>0.729859</td>\n",
       "    </tr>\n",
       "    <tr>\n",
       "      <th>market_share_2</th>\n",
       "      <td>-0.032056</td>\n",
       "    </tr>\n",
       "    <tr>\n",
       "      <th>price</th>\n",
       "      <td>0.232008</td>\n",
       "    </tr>\n",
       "  </tbody>\n",
       "</table>\n",
       "</div>"
      ],
      "text/plain": [
       "                                  0\n",
       "distance                   0.002681\n",
       "average_weekly_passengers -0.003401\n",
       "market_share               0.077984\n",
       "average_fare_2             0.729859\n",
       "market_share_2            -0.032056\n",
       "price                      0.232008"
      ]
     },
     "execution_count": 21,
     "metadata": {},
     "output_type": "execute_result"
    }
   ],
   "source": [
    "pd.DataFrame(regression_model.coef_[0],X_train.columns)"
   ]
  },
  {
   "cell_type": "code",
   "execution_count": 22,
   "metadata": {},
   "outputs": [
    {
     "data": {
      "text/plain": [
       "4.084548338987787"
      ]
     },
     "execution_count": 22,
     "metadata": {},
     "output_type": "execute_result"
    }
   ],
   "source": [
    "regression_model.intercept_[0]"
   ]
  },
  {
   "cell_type": "code",
   "execution_count": 23,
   "metadata": {},
   "outputs": [
    {
     "data": {
      "text/plain": [
       "0.9699617495264753"
      ]
     },
     "execution_count": 23,
     "metadata": {},
     "output_type": "execute_result"
    }
   ],
   "source": [
    "regression_model.score(X_test, y_test)"
   ]
  },
  {
   "cell_type": "code",
   "execution_count": null,
   "metadata": {},
   "outputs": [],
   "source": []
  }
 ],
 "metadata": {
  "kernelspec": {
   "display_name": "Python 3",
   "language": "python",
   "name": "python3"
  },
  "language_info": {
   "codemirror_mode": {
    "name": "ipython",
    "version": 3
   },
   "file_extension": ".py",
   "mimetype": "text/x-python",
   "name": "python",
   "nbconvert_exporter": "python",
   "pygments_lexer": "ipython3",
   "version": "3.6.8"
  }
 },
 "nbformat": 4,
 "nbformat_minor": 2
}
